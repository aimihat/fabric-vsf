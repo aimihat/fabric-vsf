{
 "cells": [
  {
   "cell_type": "code",
   "execution_count": 17,
   "metadata": {
    "scrolled": false
   },
   "outputs": [
    {
     "name": "stdout",
     "output_type": "stream",
     "text": [
      "loading logs/demos-2020-11-01-02-04-pol-random-seed-22-tier1-model-NA-cost-NA_epis_5000.pkl\n",
      "loading logs/demos-2020-10-30-20-04-pol-video_random-seed-22-tier0-model-NA-cost-NA_epis_10.pkl\n",
      "loading logs/demos-2020-10-30-20-04-pol-video_random-seed-22-tier0-model-NA-cost-NA_epis_50.pkl\n",
      "loading logs/demos-2020-10-30-20-28-pol-random-seed-22-tier0-model-NA-cost-NA_epis_100.pkl\n",
      "loading logs/demos-2020-11-01-02-17-pol-oracle-seed-22-tier1-model-NA-cost-NA_epis_100.pkl\n",
      "loading logs/demos-2020-10-30-20-06-pol-video_random-seed-22-tier0-model-NA-cost-NA_epis_50.pkl\n",
      "loading logs/demos-2020-10-30-22-13-pol-video_random-seed-22-tier0-model-NA-cost-NA_epis_50.pkl\n",
      "loading logs/demos-2020-10-30-22-50-pol-video_random-seed-22-tier0-model-NA-cost-NA_epis_50.pkl\n",
      "Dimissed 2 episodes containing None frames\n",
      "183368 frames loaded into memory\n",
      "Each episode is ~412 frames\n"
     ]
    }
   ],
   "source": [
    "import pickle\n",
    "import matplotlib.pyplot as plt\n",
    "import glob\n",
    "import numpy as np\n",
    "import random\n",
    "import logging\n",
    "\n",
    "def load_demos():\n",
    "    \"\"\"Loads all simulation results into memory.\"\"\"\n",
    "    temp = []\n",
    "    n_episodes = 0\n",
    "    eps_with_none = 0 # number of episodes that are dismissed for containing None frames\n",
    "    test_video = None\n",
    "    \n",
    "    for path in glob.glob('logs/*.pkl'):   \n",
    "        print(f'loading {path}')\n",
    "        with open(path, 'rb') as f:\n",
    "            data = pickle.load(f)\n",
    "            for ep in data:\n",
    "                n_episodes += 1\n",
    "                episode_frames = [fr for a in ep['interm_obs'] for fr in a]\n",
    "                if any(not isinstance(f, np.ndarray) for f in episode_frames):\n",
    "                    eps_with_none += 1\n",
    "                elif test_video is None: \n",
    "                    test_video = np.array(episode_frames)\n",
    "                else:\n",
    "                    temp += episode_frames\n",
    "                    \n",
    "    print(f\"Dimissed {eps_with_none} episodes containing None frames\")\n",
    "    print(f\"{len(temp)} frames loaded into memory\")\n",
    "    print(\"Each episode is ~{} frames\".format(int(len(all_frames)/n_episodes)))\n",
    "    return temp, test_video\n",
    "\n",
    "all_frames, test_video = load_demos()\n",
    "\n",
    "np.save('logs/all_frames.npy', all_frames)\n",
    "np.save('logs/test_video.npy', test_video)"
   ]
  },
  {
   "cell_type": "code",
   "execution_count": 4,
   "metadata": {},
   "outputs": [
    {
     "name": "stdout",
     "output_type": "stream",
     "text": [
      "1\n",
      "0\n",
      "1\n",
      "2\n",
      "3\n"
     ]
    }
   ],
   "source": [
    "import glob, pickle\n",
    "import numpy as np\n",
    "def video_demo():\n",
    "    \"\"\"Loads all simulation results into memory.\"\"\"\n",
    "    for path in glob.glob('logs/*.pkl'):   \n",
    "        print(1)\n",
    "        test_video = []\n",
    "        with open(path, 'rb') as f:\n",
    "            data = pickle.load(f)\n",
    "            i = 0\n",
    "            for ep in data:\n",
    "                print(i)\n",
    "                test_video += [fr for a in ep['interm_obs'] for fr in a]\n",
    "                i += 1\n",
    "                if i > 3:\n",
    "                    break\n",
    "        break\n",
    "                        \n",
    "    return np.array(test_video)\n",
    "\n",
    "test_video = video_demo()\n",
    "\n",
    "np.save('logs/test_video.npy', test_video)"
   ]
  },
  {
   "cell_type": "code",
   "execution_count": null,
   "metadata": {},
   "outputs": [],
   "source": []
  },
  {
   "cell_type": "code",
   "execution_count": null,
   "metadata": {},
   "outputs": [],
   "source": []
  }
 ],
 "metadata": {
  "kernelspec": {
   "display_name": "Python 3",
   "language": "python",
   "name": "python3"
  },
  "language_info": {
   "codemirror_mode": {
    "name": "ipython",
    "version": 3
   },
   "file_extension": ".py",
   "mimetype": "text/x-python",
   "name": "python",
   "nbconvert_exporter": "python",
   "pygments_lexer": "ipython3",
   "version": "3.6.12"
  }
 },
 "nbformat": 4,
 "nbformat_minor": 4
}
